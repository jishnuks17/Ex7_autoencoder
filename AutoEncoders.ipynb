{
  "nbformat": 4,
  "nbformat_minor": 0,
  "metadata": {
    "colab": {
      "provenance": [],
      "collapsed_sections": [],
      "toc_visible": true,
      "include_colab_link": true
    },
    "kernelspec": {
      "name": "python3",
      "display_name": "Python 3"
    },
    "accelerator": "GPU"
  },
  "cells": [
    {
      "cell_type": "markdown",
      "metadata": {
        "id": "view-in-github",
        "colab_type": "text"
      },
      "source": [
        "<a href=\"https://colab.research.google.com/github/jishnuks17/Ex7_autoencoder/blob/main/AutoEncoders.ipynb\" target=\"_parent\"><img src=\"https://colab.research.google.com/assets/colab-badge.svg\" alt=\"Open In Colab\"/></a>"
      ]
    },
    {
      "cell_type": "markdown",
      "metadata": {
        "id": "K4f4JG1gdKqj"
      },
      "source": [
        "#AutoEncoders"
      ]
    },
    {
      "cell_type": "markdown",
      "metadata": {
        "id": "1jbiqOK7dLGG"
      },
      "source": [
        "##Downloading the dataset"
      ]
    },
    {
      "cell_type": "markdown",
      "metadata": {
        "id": "XL5MEkLcfRD2"
      },
      "source": [
        "###ML-100K"
      ]
    },
    {
      "cell_type": "code",
      "metadata": {
        "id": "rjOPzue7FCXJ",
        "outputId": "c4b3e3c4-d498-47ff-c716-cbc161d80c50",
        "colab": {
          "base_uri": "https://localhost:8080/"
        }
      },
      "source": [
        "!wget \"http://files.grouplens.org/datasets/movielens/ml-100k.zip\"\n",
        "!unzip ml-100k.zip\n",
        "!ls"
      ],
      "execution_count": null,
      "outputs": [
        {
          "output_type": "stream",
          "name": "stdout",
          "text": [
            "--2022-10-06 09:21:18--  http://files.grouplens.org/datasets/movielens/ml-100k.zip\n",
            "Resolving files.grouplens.org (files.grouplens.org)... 128.101.65.152\n",
            "Connecting to files.grouplens.org (files.grouplens.org)|128.101.65.152|:80... connected.\n",
            "HTTP request sent, awaiting response... 200 OK\n",
            "Length: 4924029 (4.7M) [application/zip]\n",
            "Saving to: ‘ml-100k.zip.2’\n",
            "\n",
            "ml-100k.zip.2       100%[===================>]   4.70M  16.4MB/s    in 0.3s    \n",
            "\n",
            "2022-10-06 09:21:18 (16.4 MB/s) - ‘ml-100k.zip.2’ saved [4924029/4924029]\n",
            "\n",
            "Archive:  ml-100k.zip\n",
            "replace ml-100k/allbut.pl? [y]es, [n]o, [A]ll, [N]one, [r]ename: ml-100k      ml-100k.zip.1  ml-1m      ml-1m.zip.1\n",
            "ml-100k.zip  ml-100k.zip.2  ml-1m.zip  sample_data\n"
          ]
        }
      ]
    },
    {
      "cell_type": "markdown",
      "metadata": {
        "id": "9Xis6ldDfTs6"
      },
      "source": [
        "###ML-1M"
      ]
    },
    {
      "cell_type": "code",
      "metadata": {
        "id": "LOly1yfAfTjd",
        "outputId": "2a0c0b00-406b-4d08-b778-ab978666fc2f",
        "colab": {
          "base_uri": "https://localhost:8080/"
        }
      },
      "source": [
        "!wget \"http://files.grouplens.org/datasets/movielens/ml-1m.zip\"\n",
        "!unzip ml-1m.zip\n",
        "!ls"
      ],
      "execution_count": null,
      "outputs": [
        {
          "output_type": "stream",
          "name": "stdout",
          "text": [
            "--2022-10-06 09:21:20--  http://files.grouplens.org/datasets/movielens/ml-1m.zip\n",
            "Resolving files.grouplens.org (files.grouplens.org)... 128.101.65.152\n",
            "Connecting to files.grouplens.org (files.grouplens.org)|128.101.65.152|:80... connected.\n",
            "HTTP request sent, awaiting response... 200 OK\n",
            "Length: 5917549 (5.6M) [application/zip]\n",
            "Saving to: ‘ml-1m.zip.2’\n",
            "\n",
            "ml-1m.zip.2         100%[===================>]   5.64M  19.5MB/s    in 0.3s    \n",
            "\n",
            "2022-10-06 09:21:20 (19.5 MB/s) - ‘ml-1m.zip.2’ saved [5917549/5917549]\n",
            "\n",
            "Archive:  ml-1m.zip\n",
            "replace ml-1m/movies.dat? [y]es, [n]o, [A]ll, [N]one, [r]ename: ml-100k      ml-100k.zip.1  ml-1m      ml-1m.zip.1  sample_data\n",
            "ml-100k.zip  ml-100k.zip.2  ml-1m.zip  ml-1m.zip.2\n"
          ]
        }
      ]
    },
    {
      "cell_type": "markdown",
      "metadata": {
        "id": "EOBJ8UCXdY0g"
      },
      "source": [
        "##Importing the libraries"
      ]
    },
    {
      "cell_type": "code",
      "metadata": {
        "id": "_LvGeU1CeCtg"
      },
      "source": [
        "import numpy as np\n",
        "import pandas as pd\n",
        "import torch\n",
        "import torch.nn as nn\n",
        "import torch.nn.parallel\n",
        "import torch.optim as optim\n",
        "import torch.utils.data\n",
        "from torch.autograd import Variable"
      ],
      "execution_count": null,
      "outputs": []
    },
    {
      "cell_type": "markdown",
      "metadata": {
        "id": "pM04FyMudkoK"
      },
      "source": [
        "## Importing the dataset\n"
      ]
    },
    {
      "cell_type": "code",
      "metadata": {
        "id": "UJw2p3-Cewo4"
      },
      "source": [
        "# We won't be using this dataset.\n",
        "movies = pd.read_csv('ml-1m/movies.dat', sep = '::', header = None, engine = 'python', encoding = 'latin-1')\n",
        "users = pd.read_csv('ml-1m/users.dat', sep = '::', header = None, engine = 'python', encoding = 'latin-1')\n",
        "ratings = pd.read_csv('ml-1m/ratings.dat', sep = '::', header = None, engine = 'python', encoding = 'latin-1')"
      ],
      "execution_count": null,
      "outputs": []
    },
    {
      "cell_type": "markdown",
      "metadata": {
        "id": "yTIbE2tkdkwP"
      },
      "source": [
        "## Preparing the training set and the test set\n"
      ]
    },
    {
      "cell_type": "code",
      "metadata": {
        "id": "2usLKJBEgPE2"
      },
      "source": [
        "training_set = pd.read_csv('ml-100k/u1.base', delimiter = '\\t')\n",
        "training_set = np.array(training_set, dtype = 'int')\n",
        "test_set = pd.read_csv('ml-100k/u1.test', delimiter = '\\t')\n",
        "test_set = np.array(test_set, dtype = 'int')"
      ],
      "execution_count": null,
      "outputs": []
    },
    {
      "cell_type": "markdown",
      "metadata": {
        "id": "zCf8HjSydk4s"
      },
      "source": [
        "## Getting the number of users and movies\n"
      ]
    },
    {
      "cell_type": "code",
      "metadata": {
        "id": "gPaGZqdniC5m"
      },
      "source": [
        "nb_users = int(max(max(training_set[:, 0], ), max(test_set[:, 0])))\n",
        "nb_movies = int(max(max(training_set[:, 1], ), max(test_set[:, 1])))"
      ],
      "execution_count": null,
      "outputs": []
    },
    {
      "cell_type": "markdown",
      "metadata": {
        "id": "J-w4-hVidlAm"
      },
      "source": [
        "## Converting the data into an array with users in lines and movies in columns\n"
      ]
    },
    {
      "cell_type": "code",
      "metadata": {
        "id": "-wASs2YFiDaa"
      },
      "source": [
        "def convert(data):\n",
        "  new_data = []\n",
        "  for id_users in range(1, nb_users + 1):\n",
        "    id_movies = data[:, 1] [data[:, 0] == id_users]\n",
        "    id_ratings = data[:, 2] [data[:, 0] == id_users]\n",
        "    ratings = np.zeros(nb_movies)\n",
        "    ratings[id_movies - 1] = id_ratings\n",
        "    new_data.append(list(ratings))\n",
        "  return new_data\n",
        "training_set = convert(training_set)\n",
        "test_set = convert(test_set)"
      ],
      "execution_count": null,
      "outputs": []
    },
    {
      "cell_type": "markdown",
      "metadata": {
        "id": "AMmhuUpldlHo"
      },
      "source": [
        "## Converting the data into Torch tensors\n"
      ]
    },
    {
      "cell_type": "code",
      "metadata": {
        "id": "TwD-KD8yiEEw"
      },
      "source": [
        "training_set = torch.FloatTensor(training_set)\n",
        "test_set = torch.FloatTensor(test_set)"
      ],
      "execution_count": null,
      "outputs": []
    },
    {
      "cell_type": "markdown",
      "metadata": {
        "id": "6kkL8NkkdlZj"
      },
      "source": [
        "## Creating the architecture of the Neural Network\n"
      ]
    },
    {
      "cell_type": "code",
      "metadata": {
        "id": "oU2nyh76iE6M"
      },
      "source": [
        "class SAE(nn.Module):\n",
        "    def __init__(self, ):\n",
        "        super(SAE, self).__init__()\n",
        "        self.fc1 = nn.Linear(nb_movies, 20)\n",
        "        self.fc2 = nn.Linear(20, 10)\n",
        "        self.fc3 = nn.Linear(10, 20)\n",
        "        self.fc4 = nn.Linear(20, nb_movies)\n",
        "        self.activation = nn.Sigmoid()\n",
        "    def forward(self, x):\n",
        "        x = self.activation(self.fc1(x))\n",
        "        x = self.activation(self.fc2(x))\n",
        "        x = self.activation(self.fc3(x))\n",
        "        x = self.fc4(x)\n",
        "        return x\n",
        "sae = SAE()\n",
        "criterion = nn.MSELoss()\n",
        "optimizer = optim.RMSprop(sae.parameters(), lr = 0.01, weight_decay = 0.5)"
      ],
      "execution_count": null,
      "outputs": []
    },
    {
      "cell_type": "markdown",
      "metadata": {
        "id": "7gy59alAdloL"
      },
      "source": [
        "## Training the SAE\n"
      ]
    },
    {
      "cell_type": "code",
      "metadata": {
        "id": "FEz9hRaciFTs",
        "outputId": "2c637bc3-ff9f-4106-be83-f733804fc6e3",
        "colab": {
          "base_uri": "https://localhost:8080/"
        }
      },
      "source": [
        "nb_epoch = 200\n",
        "for epoch in range(1, nb_epoch + 1):\n",
        "  train_loss = 0\n",
        "  s = 0.\n",
        "  for id_user in range(nb_users):\n",
        "    input = Variable(training_set[id_user]).unsqueeze(0)\n",
        "    target = input.clone()\n",
        "    if torch.sum(target.data > 0) > 0:\n",
        "      output = sae(input)\n",
        "      target.require_grad = False\n",
        "      output[target == 0] = 0\n",
        "      loss = criterion(output, target)\n",
        "      mean_corrector = nb_movies/float(torch.sum(target.data > 0) + 1e-10)\n",
        "      loss.backward()\n",
        "      train_loss += np.sqrt(loss.data*mean_corrector)\n",
        "      s += 1.\n",
        "      optimizer.step()\n",
        "  print('epoch: '+str(epoch)+'loss: '+ str(train_loss/s))"
      ],
      "execution_count": null,
      "outputs": [
        {
          "output_type": "stream",
          "name": "stdout",
          "text": [
            "epoch: 1loss: tensor(1.7727)\n",
            "epoch: 2loss: tensor(1.0968)\n",
            "epoch: 3loss: tensor(1.0535)\n",
            "epoch: 4loss: tensor(1.0382)\n",
            "epoch: 5loss: tensor(1.0306)\n",
            "epoch: 6loss: tensor(1.0267)\n",
            "epoch: 7loss: tensor(1.0236)\n",
            "epoch: 8loss: tensor(1.0217)\n",
            "epoch: 9loss: tensor(1.0205)\n",
            "epoch: 10loss: tensor(1.0196)\n",
            "epoch: 11loss: tensor(1.0189)\n",
            "epoch: 12loss: tensor(1.0183)\n",
            "epoch: 13loss: tensor(1.0176)\n",
            "epoch: 14loss: tensor(1.0178)\n",
            "epoch: 15loss: tensor(1.0170)\n",
            "epoch: 16loss: tensor(1.0169)\n",
            "epoch: 17loss: tensor(1.0168)\n",
            "epoch: 18loss: tensor(1.0164)\n",
            "epoch: 19loss: tensor(1.0164)\n",
            "epoch: 20loss: tensor(1.0163)\n",
            "epoch: 21loss: tensor(1.0158)\n",
            "epoch: 22loss: tensor(1.0160)\n",
            "epoch: 23loss: tensor(1.0158)\n",
            "epoch: 24loss: tensor(1.0159)\n",
            "epoch: 25loss: tensor(1.0157)\n",
            "epoch: 26loss: tensor(1.0155)\n",
            "epoch: 27loss: tensor(1.0153)\n",
            "epoch: 28loss: tensor(1.0148)\n",
            "epoch: 29loss: tensor(1.0140)\n",
            "epoch: 30loss: tensor(1.0120)\n",
            "epoch: 31loss: tensor(1.0104)\n",
            "epoch: 32loss: tensor(1.0095)\n",
            "epoch: 33loss: tensor(1.0059)\n",
            "epoch: 34loss: tensor(1.0054)\n",
            "epoch: 35loss: tensor(1.0025)\n",
            "epoch: 36loss: tensor(1.0006)\n",
            "epoch: 37loss: tensor(0.9981)\n",
            "epoch: 38loss: tensor(0.9963)\n",
            "epoch: 39loss: tensor(0.9954)\n",
            "epoch: 40loss: tensor(0.9959)\n",
            "epoch: 41loss: tensor(0.9921)\n",
            "epoch: 42loss: tensor(0.9922)\n",
            "epoch: 43loss: tensor(0.9878)\n",
            "epoch: 44loss: tensor(0.9877)\n",
            "epoch: 45loss: tensor(0.9840)\n",
            "epoch: 46loss: tensor(0.9884)\n",
            "epoch: 47loss: tensor(0.9822)\n",
            "epoch: 48loss: tensor(0.9794)\n",
            "epoch: 49loss: tensor(0.9763)\n",
            "epoch: 50loss: tensor(0.9791)\n",
            "epoch: 51loss: tensor(0.9750)\n",
            "epoch: 52loss: tensor(0.9726)\n",
            "epoch: 53loss: tensor(0.9713)\n",
            "epoch: 54loss: tensor(0.9730)\n",
            "epoch: 55loss: tensor(0.9646)\n",
            "epoch: 56loss: tensor(0.9723)\n",
            "epoch: 57loss: tensor(0.9702)\n",
            "epoch: 58loss: tensor(0.9728)\n",
            "epoch: 59loss: tensor(0.9708)\n",
            "epoch: 60loss: tensor(0.9671)\n",
            "epoch: 61loss: tensor(0.9605)\n",
            "epoch: 62loss: tensor(0.9601)\n",
            "epoch: 63loss: tensor(0.9565)\n",
            "epoch: 64loss: tensor(0.9555)\n",
            "epoch: 65loss: tensor(0.9539)\n",
            "epoch: 66loss: tensor(0.9541)\n",
            "epoch: 67loss: tensor(0.9526)\n",
            "epoch: 68loss: tensor(0.9525)\n",
            "epoch: 69loss: tensor(0.9501)\n",
            "epoch: 70loss: tensor(0.9482)\n",
            "epoch: 71loss: tensor(0.9466)\n",
            "epoch: 72loss: tensor(0.9468)\n",
            "epoch: 73loss: tensor(0.9457)\n",
            "epoch: 74loss: tensor(0.9456)\n",
            "epoch: 75loss: tensor(0.9436)\n",
            "epoch: 76loss: tensor(0.9442)\n",
            "epoch: 77loss: tensor(0.9427)\n",
            "epoch: 78loss: tensor(0.9421)\n",
            "epoch: 79loss: tensor(0.9404)\n",
            "epoch: 80loss: tensor(0.9423)\n",
            "epoch: 81loss: tensor(0.9396)\n",
            "epoch: 82loss: tensor(0.9399)\n",
            "epoch: 83loss: tensor(0.9387)\n",
            "epoch: 84loss: tensor(0.9391)\n",
            "epoch: 85loss: tensor(0.9380)\n",
            "epoch: 86loss: tensor(0.9379)\n",
            "epoch: 87loss: tensor(0.9376)\n",
            "epoch: 88loss: tensor(0.9377)\n",
            "epoch: 89loss: tensor(0.9362)\n",
            "epoch: 90loss: tensor(0.9365)\n",
            "epoch: 91loss: tensor(0.9346)\n",
            "epoch: 92loss: tensor(0.9356)\n",
            "epoch: 93loss: tensor(0.9348)\n",
            "epoch: 94loss: tensor(0.9349)\n",
            "epoch: 95loss: tensor(0.9334)\n",
            "epoch: 96loss: tensor(0.9347)\n",
            "epoch: 97loss: tensor(0.9338)\n",
            "epoch: 98loss: tensor(0.9338)\n",
            "epoch: 99loss: tensor(0.9330)\n",
            "epoch: 100loss: tensor(0.9331)\n",
            "epoch: 101loss: tensor(0.9327)\n",
            "epoch: 102loss: tensor(0.9340)\n",
            "epoch: 103loss: tensor(0.9323)\n",
            "epoch: 104loss: tensor(0.9325)\n",
            "epoch: 105loss: tensor(0.9312)\n",
            "epoch: 106loss: tensor(0.9323)\n",
            "epoch: 107loss: tensor(0.9312)\n",
            "epoch: 108loss: tensor(0.9317)\n",
            "epoch: 109loss: tensor(0.9308)\n",
            "epoch: 110loss: tensor(0.9314)\n",
            "epoch: 111loss: tensor(0.9304)\n",
            "epoch: 112loss: tensor(0.9311)\n",
            "epoch: 113loss: tensor(0.9298)\n",
            "epoch: 114loss: tensor(0.9305)\n",
            "epoch: 115loss: tensor(0.9291)\n",
            "epoch: 116loss: tensor(0.9304)\n",
            "epoch: 117loss: tensor(0.9291)\n",
            "epoch: 118loss: tensor(0.9304)\n",
            "epoch: 119loss: tensor(0.9285)\n",
            "epoch: 120loss: tensor(0.9297)\n",
            "epoch: 121loss: tensor(0.9282)\n",
            "epoch: 122loss: tensor(0.9288)\n",
            "epoch: 123loss: tensor(0.9281)\n",
            "epoch: 124loss: tensor(0.9285)\n",
            "epoch: 125loss: tensor(0.9271)\n",
            "epoch: 126loss: tensor(0.9283)\n",
            "epoch: 127loss: tensor(0.9270)\n",
            "epoch: 128loss: tensor(0.9279)\n",
            "epoch: 129loss: tensor(0.9269)\n",
            "epoch: 130loss: tensor(0.9276)\n",
            "epoch: 131loss: tensor(0.9268)\n",
            "epoch: 132loss: tensor(0.9275)\n",
            "epoch: 133loss: tensor(0.9263)\n",
            "epoch: 134loss: tensor(0.9270)\n",
            "epoch: 135loss: tensor(0.9259)\n",
            "epoch: 136loss: tensor(0.9266)\n",
            "epoch: 137loss: tensor(0.9255)\n",
            "epoch: 138loss: tensor(0.9265)\n",
            "epoch: 139loss: tensor(0.9245)\n",
            "epoch: 140loss: tensor(0.9257)\n",
            "epoch: 141loss: tensor(0.9245)\n",
            "epoch: 142loss: tensor(0.9255)\n",
            "epoch: 143loss: tensor(0.9239)\n",
            "epoch: 144loss: tensor(0.9252)\n",
            "epoch: 145loss: tensor(0.9241)\n",
            "epoch: 146loss: tensor(0.9247)\n",
            "epoch: 147loss: tensor(0.9237)\n",
            "epoch: 148loss: tensor(0.9245)\n",
            "epoch: 149loss: tensor(0.9236)\n",
            "epoch: 150loss: tensor(0.9240)\n",
            "epoch: 151loss: tensor(0.9229)\n",
            "epoch: 152loss: tensor(0.9238)\n",
            "epoch: 153loss: tensor(0.9225)\n",
            "epoch: 154loss: tensor(0.9239)\n",
            "epoch: 155loss: tensor(0.9222)\n",
            "epoch: 156loss: tensor(0.9231)\n",
            "epoch: 157loss: tensor(0.9215)\n",
            "epoch: 158loss: tensor(0.9229)\n",
            "epoch: 159loss: tensor(0.9212)\n",
            "epoch: 160loss: tensor(0.9225)\n",
            "epoch: 161loss: tensor(0.9209)\n",
            "epoch: 162loss: tensor(0.9222)\n",
            "epoch: 163loss: tensor(0.9205)\n",
            "epoch: 164loss: tensor(0.9214)\n",
            "epoch: 165loss: tensor(0.9201)\n",
            "epoch: 166loss: tensor(0.9215)\n",
            "epoch: 167loss: tensor(0.9202)\n",
            "epoch: 168loss: tensor(0.9210)\n",
            "epoch: 169loss: tensor(0.9192)\n",
            "epoch: 170loss: tensor(0.9203)\n",
            "epoch: 171loss: tensor(0.9195)\n",
            "epoch: 172loss: tensor(0.9203)\n",
            "epoch: 173loss: tensor(0.9190)\n",
            "epoch: 174loss: tensor(0.9197)\n",
            "epoch: 175loss: tensor(0.9186)\n",
            "epoch: 176loss: tensor(0.9197)\n",
            "epoch: 177loss: tensor(0.9183)\n",
            "epoch: 178loss: tensor(0.9195)\n",
            "epoch: 179loss: tensor(0.9180)\n",
            "epoch: 180loss: tensor(0.9192)\n",
            "epoch: 181loss: tensor(0.9175)\n",
            "epoch: 182loss: tensor(0.9186)\n",
            "epoch: 183loss: tensor(0.9170)\n",
            "epoch: 184loss: tensor(0.9186)\n",
            "epoch: 185loss: tensor(0.9170)\n",
            "epoch: 186loss: tensor(0.9181)\n",
            "epoch: 187loss: tensor(0.9167)\n",
            "epoch: 188loss: tensor(0.9178)\n",
            "epoch: 189loss: tensor(0.9164)\n",
            "epoch: 190loss: tensor(0.9175)\n",
            "epoch: 191loss: tensor(0.9166)\n",
            "epoch: 192loss: tensor(0.9187)\n",
            "epoch: 193loss: tensor(0.9162)\n",
            "epoch: 194loss: tensor(0.9171)\n",
            "epoch: 195loss: tensor(0.9158)\n",
            "epoch: 196loss: tensor(0.9168)\n",
            "epoch: 197loss: tensor(0.9156)\n",
            "epoch: 198loss: tensor(0.9166)\n",
            "epoch: 199loss: tensor(0.9151)\n",
            "epoch: 200loss: tensor(0.9163)\n"
          ]
        }
      ]
    },
    {
      "cell_type": "markdown",
      "metadata": {
        "id": "Bak5uc8gd-gX"
      },
      "source": [
        "## Testing the SAE\n"
      ]
    },
    {
      "cell_type": "code",
      "metadata": {
        "id": "5ztvzYRtiGCz",
        "outputId": "3567710c-3bcd-444f-e3e1-fa0e679253a4",
        "colab": {
          "base_uri": "https://localhost:8080/"
        }
      },
      "source": [
        "test_loss = 0\n",
        "s = 0.\n",
        "for id_user in range(nb_users):\n",
        "  input = Variable(training_set[id_user]).unsqueeze(0)\n",
        "  target = Variable(test_set[id_user]).unsqueeze(0)\n",
        "  if torch.sum(target.data > 0) > 0:\n",
        "    output = sae(input)\n",
        "    target.require_grad = False\n",
        "    output[target == 0] = 0\n",
        "    loss = criterion(output, target)\n",
        "    mean_corrector = nb_movies/float(torch.sum(target.data > 0) + 1e-10)\n",
        "    test_loss += np.sqrt(loss.data*mean_corrector)\n",
        "    s += 1.\n",
        "print('test loss: '+str(test_loss/s))"
      ],
      "execution_count": null,
      "outputs": [
        {
          "output_type": "stream",
          "name": "stdout",
          "text": [
            "test loss: tensor(0.9494)\n"
          ]
        }
      ]
    }
  ]
}